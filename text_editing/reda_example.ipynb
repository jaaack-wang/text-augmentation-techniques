{
 "cells": [
  {
   "cell_type": "code",
   "execution_count": 1,
   "id": "7e7231bc",
   "metadata": {},
   "outputs": [],
   "source": [
    "from reda import REDA"
   ]
  },
  {
   "cell_type": "markdown",
   "id": "a60ad6fe",
   "metadata": {},
   "source": [
    "## Chinese"
   ]
  },
  {
   "cell_type": "code",
   "execution_count": 2,
   "id": "75a5e803",
   "metadata": {},
   "outputs": [
    {
     "name": "stderr",
     "output_type": "stream",
     "text": [
      "Building prefix dict from the default dictionary ...\n",
      "Loading model from cache /var/folders/w9/d_nplhzj4qx35xxlgljgdtjh0000gn/T/jieba.cache\n",
      "Loading model cost 0.731 seconds.\n",
      "Prefix dict has been built successfully.\n"
     ]
    }
   ],
   "source": [
    "reda = REDA()\n",
    "text = '我今天很开心'\n",
    "text = reda.tokenize(text)"
   ]
  },
  {
   "cell_type": "code",
   "execution_count": 3,
   "id": "f3a17fbe",
   "metadata": {},
   "outputs": [
    {
     "data": {
      "text/plain": [
       "[['侬', '今日', '很', '开心'],\n",
       " ['俺', '现在', '很', '开心'],\n",
       " ['吾', '现在', '很', '开心'],\n",
       " ['我', '现在', '很', '开玩笑']]"
      ]
     },
     "execution_count": 3,
     "metadata": {},
     "output_type": "execute_result"
    }
   ],
   "source": [
    "reda.replace_syn(text, rpl_num=2, out_num=5, out_str=False)"
   ]
  },
  {
   "cell_type": "code",
   "execution_count": 4,
   "id": "e7006985",
   "metadata": {},
   "outputs": [
    {
     "data": {
      "text/plain": [
       "['开心我很今天', '很我今天开心', '我开心今天很']"
      ]
     },
     "execution_count": 4,
     "metadata": {},
     "output_type": "execute_result"
    }
   ],
   "source": [
    "reda.swap_words(text, swap_num=2, out_num=5, out_str=True)"
   ]
  },
  {
   "cell_type": "code",
   "execution_count": 5,
   "id": "cd91fd7f",
   "metadata": {},
   "outputs": [
    {
     "data": {
      "text/plain": [
       "['我今天现在很开心高兴', '我今天现在很开玩笑开心', '我今天现在很高兴开心', '我侬今天很开心开玩笑', '我俺今天很开心高兴']"
      ]
     },
     "execution_count": 5,
     "metadata": {},
     "output_type": "execute_result"
    }
   ],
   "source": [
    "reda.insert_words(text, insert_num=2, out_num=5, out_str=True)"
   ]
  },
  {
   "cell_type": "code",
   "execution_count": 6,
   "id": "da48f7d3",
   "metadata": {},
   "outputs": [
    {
     "data": {
      "text/plain": [
       "['今天开心', '今天很', '很开心', '我很']"
      ]
     },
     "execution_count": 6,
     "metadata": {},
     "output_type": "execute_result"
    }
   ],
   "source": [
    "reda.delete_words(text, delete_num=2, out_num=5, out_str=True)"
   ]
  },
  {
   "cell_type": "code",
   "execution_count": 7,
   "id": "9ef3a079",
   "metadata": {},
   "outputs": [
    {
     "data": {
      "text/plain": [
       "[['我', '今天', '今日', '开心'],\n",
       " ['我', '今天', '开心', '开玩笑'],\n",
       " ['我', '今天', '开心', '高兴'],\n",
       " ['我', '今天', '现在', '开心'],\n",
       " ['我', '吾', '今天', '开心']]"
      ]
     },
     "execution_count": 7,
     "metadata": {},
     "output_type": "execute_result"
    }
   ],
   "source": [
    "reda.mixed_edits(text, max_mix=3, out_num=5, out_str=False)"
   ]
  },
  {
   "cell_type": "code",
   "execution_count": 8,
   "id": "ff364894",
   "metadata": {},
   "outputs": [
    {
     "data": {
      "text/plain": [
       "['今天我很开心', '侬今天很开心', '俺今天很开心', '开心今天很我', '我今天很开玩笑', '我现在很开心']"
      ]
     },
     "execution_count": 8,
     "metadata": {},
     "output_type": "execute_result"
    }
   ],
   "source": [
    "reda.augment_text(text, out_num_each=2, max_out_num=10, out_str=True)"
   ]
  },
  {
   "cell_type": "code",
   "execution_count": 9,
   "id": "e75509f7",
   "metadata": {},
   "outputs": [
    {
     "data": {
      "text/plain": [
       "['侬今天很开心高兴',\n",
       " '侬今日很高兴',\n",
       " '俺现在很高兴',\n",
       " '开心',\n",
       " '开心今天我很',\n",
       " '我',\n",
       " '我人家今天现在很开心',\n",
       " '我吾今天现在很开心',\n",
       " '我开心今天很',\n",
       " '本人今天很开心高兴']"
      ]
     },
     "execution_count": 9,
     "metadata": {},
     "output_type": "execute_result"
    }
   ],
   "source": [
    "# To see more output texts, you can increase the edit rate (float), \n",
    "# which will make the program augment text with small number of words.\n",
    "# The roudning rules applied to edit rate, e.g., round(1.5) = 2, round(2.5) = 2\n",
    "reda.augment_text(text, replace_rate=0.8, swap_rate=0.6, insert_rate=0.5, \n",
    "                  delete_rate=0.7, max_mix=3, out_num_each=2, max_out_num=10, out_str=True)"
   ]
  },
  {
   "cell_type": "markdown",
   "id": "9adc2a0b",
   "metadata": {},
   "source": [
    "## English"
   ]
  },
  {
   "cell_type": "code",
   "execution_count": 10,
   "id": "fd74f37f",
   "metadata": {},
   "outputs": [],
   "source": [
    "reda_en = REDA(lang='en')\n",
    "text = 'I am very happy today super sad do you know'\n",
    "text = reda_en.tokenize(text)"
   ]
  },
  {
   "cell_type": "code",
   "execution_count": 11,
   "id": "068a601c",
   "metadata": {},
   "outputs": [
    {
     "data": {
      "text/plain": [
       "[['I',\n",
       "  'am',\n",
       "  'identical',\n",
       "  'happy',\n",
       "  'today',\n",
       "  'super',\n",
       "  'sorry',\n",
       "  'do',\n",
       "  'you',\n",
       "  'know'],\n",
       " ['I',\n",
       "  'am',\n",
       "  'rattling',\n",
       "  'happy',\n",
       "  'today',\n",
       "  'super',\n",
       "  'sad',\n",
       "  'do',\n",
       "  'you',\n",
       "  'bang'],\n",
       " ['I',\n",
       "  'am',\n",
       "  'really',\n",
       "  'felicitous',\n",
       "  'today',\n",
       "  'super',\n",
       "  'sad',\n",
       "  'do',\n",
       "  'you',\n",
       "  'know'],\n",
       " ['iodin',\n",
       "  'am',\n",
       "  'very',\n",
       "  'happy',\n",
       "  'today',\n",
       "  'super',\n",
       "  'sad',\n",
       "  'do',\n",
       "  'you',\n",
       "  'recognize'],\n",
       " ['unity',\n",
       "  'am',\n",
       "  'very',\n",
       "  'happy',\n",
       "  'today',\n",
       "  'super',\n",
       "  'sad',\n",
       "  'do',\n",
       "  'you',\n",
       "  'cognise']]"
      ]
     },
     "execution_count": 11,
     "metadata": {},
     "output_type": "execute_result"
    }
   ],
   "source": [
    "reda_en.replace_syn(text, rpl_num=2, out_num=5, out_str=False)"
   ]
  },
  {
   "cell_type": "code",
   "execution_count": 12,
   "id": "8855e454",
   "metadata": {},
   "outputs": [
    {
     "data": {
      "text/plain": [
       "['I am very happy glad today superintendent super sad do you know',\n",
       " 'I am very happy well-chosen today super sad deplorable do you know',\n",
       " 'I am very selfsame happy today topnotch super sad do you know',\n",
       " 'I one am real very happy today super sad do you know',\n",
       " 'I one am very happy today nowadays super sad do you know']"
      ]
     },
     "execution_count": 12,
     "metadata": {},
     "output_type": "execute_result"
    }
   ],
   "source": [
    "reda_en.insert_words(text, insert_num=2, out_num=5, out_str=True)"
   ]
  },
  {
   "cell_type": "code",
   "execution_count": 13,
   "id": "ef1bbc70",
   "metadata": {},
   "outputs": [
    {
     "data": {
      "text/plain": [
       "['I am very happy super sad you know',\n",
       " 'I am very super sad do you know',\n",
       " 'I am very today super sad you know',\n",
       " 'I very happy today super sad do you',\n",
       " 'am very happy today sad do you know']"
      ]
     },
     "execution_count": 13,
     "metadata": {},
     "output_type": "execute_result"
    }
   ],
   "source": [
    "reda_en.delete_words(text, delete_num=2, out_num=5, out_str=True)"
   ]
  },
  {
   "cell_type": "code",
   "execution_count": 14,
   "id": "77c6fcda",
   "metadata": {},
   "outputs": [
    {
     "data": {
      "text/plain": [
       "[['I',\n",
       "  'am',\n",
       "  'real',\n",
       "  'happy',\n",
       "  'today',\n",
       "  'super',\n",
       "  'sad',\n",
       "  'do',\n",
       "  'you',\n",
       "  'know',\n",
       "  'love'],\n",
       " ['I',\n",
       "  'am',\n",
       "  'very',\n",
       "  'happy',\n",
       "  'today',\n",
       "  'super',\n",
       "  'top-notch',\n",
       "  'sad',\n",
       "  'behave',\n",
       "  'you',\n",
       "  'know'],\n",
       " ['I',\n",
       "  'am',\n",
       "  'very',\n",
       "  'happy',\n",
       "  'well-chosen',\n",
       "  'today',\n",
       "  'super',\n",
       "  'pitiful',\n",
       "  'do',\n",
       "  'you',\n",
       "  'know'],\n",
       " ['I',\n",
       "  'am',\n",
       "  'very',\n",
       "  'rattling',\n",
       "  'happy',\n",
       "  'today',\n",
       "  'super',\n",
       "  'sad',\n",
       "  'suffice',\n",
       "  'you',\n",
       "  'know'],\n",
       " ['I',\n",
       "  'unity',\n",
       "  'am',\n",
       "  'very',\n",
       "  'happy',\n",
       "  'today',\n",
       "  'topnotch',\n",
       "  'sad',\n",
       "  'do',\n",
       "  'you',\n",
       "  'know']]"
      ]
     },
     "execution_count": 14,
     "metadata": {},
     "output_type": "execute_result"
    }
   ],
   "source": [
    "reda_en.mixed_edits(text, max_mix=3, out_num=5, out_str=False)"
   ]
  },
  {
   "cell_type": "code",
   "execution_count": 15,
   "id": "8de619fb",
   "metadata": {},
   "outputs": [
    {
     "data": {
      "text/plain": [
       "['1 atomic_number_53 sad very happy today super am do you',\n",
       " 'I am dress happy today super sad very real you',\n",
       " 'I am rattling happy today super distressing do you know',\n",
       " 'I am very glad today tops sad do you know',\n",
       " 'I am very happy today super do you know',\n",
       " 'I am very happy today super sad you know',\n",
       " 'I am very happy well-chosen today super sad do you know',\n",
       " 'I am very rattling happy today super sad do you know',\n",
       " 'sad am very happy I super today do you know',\n",
       " 'super am very happy today know sad do you I']"
      ]
     },
     "execution_count": 15,
     "metadata": {},
     "output_type": "execute_result"
    }
   ],
   "source": [
    "reda_en.augment_text(text, out_num_each=2, max_out_num=10, out_str=True)"
   ]
  }
 ],
 "metadata": {
  "kernelspec": {
   "display_name": "Python 3 (ipykernel)",
   "language": "python",
   "name": "python3"
  },
  "language_info": {
   "codemirror_mode": {
    "name": "ipython",
    "version": 3
   },
   "file_extension": ".py",
   "mimetype": "text/x-python",
   "name": "python",
   "nbconvert_exporter": "python",
   "pygments_lexer": "ipython3",
   "version": "3.9.6"
  }
 },
 "nbformat": 4,
 "nbformat_minor": 5
}
