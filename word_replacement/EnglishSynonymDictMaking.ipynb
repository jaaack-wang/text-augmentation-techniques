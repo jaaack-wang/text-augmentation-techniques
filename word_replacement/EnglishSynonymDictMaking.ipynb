{
 "cells": [
  {
   "cell_type": "code",
   "execution_count": 1,
   "id": "567d4220",
   "metadata": {},
   "outputs": [],
   "source": [
    "from nltk.corpus import wordnet as wn\n",
    "import json"
   ]
  },
  {
   "cell_type": "code",
   "execution_count": 2,
   "id": "e54d4b93",
   "metadata": {},
   "outputs": [],
   "source": [
    "def findSyn(w):\n",
    "    return [e.lemma_names() for e in wn.synsets(w)]"
   ]
  },
  {
   "cell_type": "code",
   "execution_count": 3,
   "id": "85e4f956",
   "metadata": {},
   "outputs": [],
   "source": [
    "words = list(wn.all_lemma_names())"
   ]
  },
  {
   "cell_type": "code",
   "execution_count": 4,
   "id": "d32db54f",
   "metadata": {},
   "outputs": [
    {
     "name": "stdout",
     "output_type": "stream",
     "text": [
      "71525\n"
     ]
    }
   ],
   "source": [
    "syn_wn = {}\n",
    "\n",
    "for w in words:\n",
    "    try:\n",
    "        w_ = w.replace('+', '')\n",
    "        added = []\n",
    "        syn_lst = findSyn(w)\n",
    "        for l in syn_lst:\n",
    "            l_ = l.copy()\n",
    "            l_.remove(w_)\n",
    "            added.extend([i.replace('+', '') for i in l_])\n",
    "        if added:\n",
    "            syn_wn[w_] = added\n",
    "    except:\n",
    "        pass\n",
    "\n",
    "print(len(syn_wn))"
   ]
  },
  {
   "cell_type": "code",
   "execution_count": 5,
   "id": "beac7ac6",
   "metadata": {},
   "outputs": [
    {
     "name": "stdout",
     "output_type": "stream",
     "text": [
      "83600\n"
     ]
    }
   ],
   "source": [
    "# make a narrowly expanded version\n",
    "\n",
    "expand_narrow = syn_wn.copy()\n",
    "\n",
    "for k in syn_wn.keys():\n",
    "    values = syn_wn[k]\n",
    "    for v in values:\n",
    "        if v in expand_narrow:\n",
    "            if k not in expand_narrow[v]:\n",
    "                expand_narrow[v] = [k] + expand_narrow[v]\n",
    "        else:\n",
    "            expand_narrow[v] = [k]\n",
    "            \n",
    "print(len(expand_narrow))"
   ]
  },
  {
   "cell_type": "code",
   "execution_count": null,
   "id": "c6b25a0f",
   "metadata": {},
   "outputs": [],
   "source": []
  },
  {
   "cell_type": "code",
   "execution_count": 6,
   "id": "6c2738de",
   "metadata": {},
   "outputs": [
    {
     "data": {
      "text/plain": [
       "['nowadays', 'now']"
      ]
     },
     "execution_count": 6,
     "metadata": {},
     "output_type": "execute_result"
    }
   ],
   "source": [
    "syn_wn['today']\n",
    "expand_narrow['today']"
   ]
  },
  {
   "cell_type": "code",
   "execution_count": 7,
   "id": "48dfbf04",
   "metadata": {},
   "outputs": [
    {
     "data": {
      "text/plain": [
       "['present', 'now', 'today']"
      ]
     },
     "execution_count": 7,
     "metadata": {},
     "output_type": "execute_result"
    }
   ],
   "source": [
    "syn_wn['nowadays']\n",
    "expand_narrow['nowadays']"
   ]
  },
  {
   "cell_type": "code",
   "execution_count": null,
   "id": "86e00817",
   "metadata": {},
   "outputs": [],
   "source": []
  },
  {
   "cell_type": "code",
   "execution_count": 8,
   "id": "f4c73093",
   "metadata": {},
   "outputs": [],
   "source": [
    "# choose which type of synonym to save\n",
    "# availble: syn_wn (unexpanded), expand_narrow (expanded)\n",
    "with open('synonyms_en.json', 'w') as f:\n",
    "    json.dump(expand_narrow, f)"
   ]
  },
  {
   "cell_type": "code",
   "execution_count": null,
   "id": "b3df69e0",
   "metadata": {},
   "outputs": [],
   "source": []
  }
 ],
 "metadata": {
  "kernelspec": {
   "display_name": "Python 3 (ipykernel)",
   "language": "python",
   "name": "python3"
  },
  "language_info": {
   "codemirror_mode": {
    "name": "ipython",
    "version": 3
   },
   "file_extension": ".py",
   "mimetype": "text/x-python",
   "name": "python",
   "nbconvert_exporter": "python",
   "pygments_lexer": "ipython3",
   "version": "3.9.6"
  }
 },
 "nbformat": 4,
 "nbformat_minor": 5
}
