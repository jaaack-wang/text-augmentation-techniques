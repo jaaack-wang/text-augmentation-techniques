{
 "cells": [
  {
   "cell_type": "code",
   "execution_count": 1,
   "id": "d5015490",
   "metadata": {},
   "outputs": [],
   "source": [
    "from wordReplacement import WordsReplacement"
   ]
  },
  {
   "cell_type": "markdown",
   "id": "7b0db68b",
   "metadata": {},
   "source": [
    "## Chinese Example"
   ]
  },
  {
   "cell_type": "markdown",
   "id": "f7144fe0",
   "metadata": {},
   "source": [
    "### Synonym-based replacements"
   ]
  },
  {
   "cell_type": "code",
   "execution_count": 2,
   "id": "3e04dfdc",
   "metadata": {},
   "outputs": [],
   "source": [
    "w_replace = WordsReplacement()"
   ]
  },
  {
   "cell_type": "code",
   "execution_count": 3,
   "id": "e8b290e5",
   "metadata": {},
   "outputs": [
    {
     "name": "stderr",
     "output_type": "stream",
     "text": [
      "Building prefix dict from the default dictionary ...\n",
      "Loading model from cache /var/folders/w9/d_nplhzj4qx35xxlgljgdtjh0000gn/T/jieba.cache\n",
      "Loading model cost 0.789 seconds.\n",
      "Prefix dict has been built successfully.\n"
     ]
    },
    {
     "data": {
      "text/plain": [
       "['我', '今天', '很', '高兴']"
      ]
     },
     "execution_count": 3,
     "metadata": {},
     "output_type": "execute_result"
    }
   ],
   "source": [
    "w_replace.replace_word('我今天很开心')"
   ]
  },
  {
   "cell_type": "code",
   "execution_count": 4,
   "id": "c1e1548d",
   "metadata": {},
   "outputs": [
    {
     "data": {
      "text/plain": [
       "[['人家', '今日', '很', '开心'],\n",
       " ['吾', '今日', '很', '开心'],\n",
       " ['我', '现在', '很', '开玩笑'],\n",
       " ['我', '现在', '很', '高兴'],\n",
       " ['本人', '现在', '很', '开心']]"
      ]
     },
     "execution_count": 4,
     "metadata": {},
     "output_type": "execute_result"
    }
   ],
   "source": [
    "w_replace.replace_word('我今天很开心', rpl_num=2, out_num=5)"
   ]
  },
  {
   "cell_type": "markdown",
   "id": "8ad6b230",
   "metadata": {},
   "source": [
    "### Embedding-based replacements"
   ]
  },
  {
   "cell_type": "code",
   "execution_count": 5,
   "id": "9f776cfb",
   "metadata": {},
   "outputs": [],
   "source": [
    "w_replace = WordsReplacement(rpl_type='embd')"
   ]
  },
  {
   "cell_type": "code",
   "execution_count": 6,
   "id": "20a8dfff",
   "metadata": {},
   "outputs": [
    {
     "data": {
      "text/plain": [
       "['我', '下午', '很', '开心']"
      ]
     },
     "execution_count": 6,
     "metadata": {},
     "output_type": "execute_result"
    }
   ],
   "source": [
    "w_replace.replace_word('我今天很开心')"
   ]
  },
  {
   "cell_type": "code",
   "execution_count": 7,
   "id": "4cc443e3",
   "metadata": {},
   "outputs": [
    {
     "data": {
      "text/plain": [
       "[['。', '下午', '很', '开心'],\n",
       " ['。', '今天', '很', '笑哈哈'],\n",
       " ['我', '下午', '很', '笑哈哈'],\n",
       " ['我', '明天', '比较', '开心'],\n",
       " ['！', '今晚', '很', '开心']]"
      ]
     },
     "execution_count": 7,
     "metadata": {},
     "output_type": "execute_result"
    }
   ],
   "source": [
    "w_replace.replace_word('我今天很开心', rpl_num=2, out_num=5)"
   ]
  },
  {
   "cell_type": "markdown",
   "id": "39a5fc42",
   "metadata": {},
   "source": [
    "## English Example"
   ]
  },
  {
   "cell_type": "markdown",
   "id": "908752fe",
   "metadata": {},
   "source": [
    "### Synonym-based replacements"
   ]
  },
  {
   "cell_type": "code",
   "execution_count": 8,
   "id": "43dd9f64",
   "metadata": {},
   "outputs": [],
   "source": [
    "w_replace_en = WordsReplacement(lang='en')"
   ]
  },
  {
   "cell_type": "code",
   "execution_count": 9,
   "id": "a456230a",
   "metadata": {},
   "outputs": [
    {
     "data": {
      "text/plain": [
       "['a', ' ', 'am', ' ', 'very', ' ', 'happy', ' ', 'today']"
      ]
     },
     "execution_count": 9,
     "metadata": {},
     "output_type": "execute_result"
    }
   ],
   "source": [
    "w_replace.replace_word('I am very happy today')"
   ]
  },
  {
   "cell_type": "code",
   "execution_count": 10,
   "id": "fe5136d4",
   "metadata": {},
   "outputs": [
    {
     "data": {
      "text/plain": [
       "[['a', ' ', 'am', ' ', 'very', ' ', 'happy', ' ', 'today'],\n",
       " ['is', ' ', 'am', ' ', 'very', ' ', 'happy', ' ', 'today'],\n",
       " ['to', ' ', 'am', ' ', 'very', ' ', 'happy', ' ', 'today'],\n",
       " ['you', ' ', 'am', ' ', 'very', ' ', 'happy', ' ', 'today']]"
      ]
     },
     "execution_count": 10,
     "metadata": {},
     "output_type": "execute_result"
    }
   ],
   "source": [
    "w_replace.replace_word('I am very happy today', rpl_num=2, out_num=5)"
   ]
  },
  {
   "cell_type": "markdown",
   "id": "9bcf1fcc",
   "metadata": {},
   "source": [
    "### Embedding-based replacements"
   ]
  },
  {
   "cell_type": "code",
   "execution_count": 11,
   "id": "4532cb31",
   "metadata": {},
   "outputs": [],
   "source": [
    "w_replace_en = WordsReplacement(lang='en', rpl_type='embd')"
   ]
  },
  {
   "cell_type": "code",
   "execution_count": 12,
   "id": "b3cef702",
   "metadata": {},
   "outputs": [
    {
     "data": {
      "text/plain": [
       "['a', ' ', 'am', ' ', 'very', ' ', 'happy', ' ', 'today']"
      ]
     },
     "execution_count": 12,
     "metadata": {},
     "output_type": "execute_result"
    }
   ],
   "source": [
    "w_replace.replace_word('I am very happy today')"
   ]
  },
  {
   "cell_type": "code",
   "execution_count": 13,
   "id": "fb30edc7",
   "metadata": {},
   "outputs": [
    {
     "data": {
      "text/plain": [
       "[['a', ' ', 'am', ' ', 'very', ' ', 'happy', ' ', 'today'],\n",
       " ['is', ' ', 'am', ' ', 'very', ' ', 'happy', ' ', 'today'],\n",
       " ['to', ' ', 'am', ' ', 'very', ' ', 'happy', ' ', 'today']]"
      ]
     },
     "execution_count": 13,
     "metadata": {},
     "output_type": "execute_result"
    }
   ],
   "source": [
    "w_replace.replace_word('I am very happy today', rpl_num=2, out_num=5)"
   ]
  }
 ],
 "metadata": {
  "kernelspec": {
   "display_name": "Python 3 (ipykernel)",
   "language": "python",
   "name": "python3"
  },
  "language_info": {
   "codemirror_mode": {
    "name": "ipython",
    "version": 3
   },
   "file_extension": ".py",
   "mimetype": "text/x-python",
   "name": "python",
   "nbconvert_exporter": "python",
   "pygments_lexer": "ipython3",
   "version": "3.9.6"
  }
 },
 "nbformat": 4,
 "nbformat_minor": 5
}
