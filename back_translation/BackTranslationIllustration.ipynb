{
 "cells": [
  {
   "cell_type": "code",
   "execution_count": 1,
   "id": "5ca2f062",
   "metadata": {},
   "outputs": [],
   "source": [
    "from back_translators import *"
   ]
  },
  {
   "cell_type": "code",
   "execution_count": 2,
   "id": "d9d85876",
   "metadata": {},
   "outputs": [
    {
     "name": "stdout",
     "output_type": "stream",
     "text": [
      "\u001b[32mReturning lang code [en] for \"English\" (english) \u001b[0m\n",
      "\u001b[32mReturning lang code [en] for \"eNgLiSH\" (English) \u001b[0m\n"
     ]
    }
   ],
   "source": [
    "# you should use the proper lang code as dst_lang, which may differ across translators.\n",
    "# if you are uncertain, simply type the full name, hints/correction will be given \n",
    "# if that is wrong for common languages, feel free to use the full name!\n",
    "\n",
    "# Baidu back translator\n",
    "# the ids and keys are deleted for privacy\n",
    "appid = '---------'\n",
    "secretKey = '---------'\n",
    "BBT = BaiduBackTranslator(appid, secretKey, 'en') # 'en' is the right code for english\n",
    "\n",
    "# Google back translator\n",
    "GBT = GoogleBackTranslator('English') # but 'English' also works!\n",
    "\n",
    "# Papago back translator\n",
    "clid = '---------'\n",
    "clkey = '---------'\n",
    "PBT = PapagoBackTranslator(clid, clkey, 'eNgLiSH') # even 'eNgLiSH' works!\n",
    "\n",
    "queries = ['I am very happy today!', \n",
    "        'Back translation can work well as a means of text augmentation', \n",
    "        'This is the third example, \\n and it has two lines']"
   ]
  },
  {
   "cell_type": "markdown",
   "id": "d85084b4",
   "metadata": {},
   "source": [
    "## Translatation"
   ]
  },
  {
   "cell_type": "code",
   "execution_count": 3,
   "id": "15c0347a",
   "metadata": {},
   "outputs": [
    {
     "name": "stdout",
     "output_type": "stream",
     "text": [
      "Baidu Transalte:  我今天很开心！\n",
      "Google Transalte:  今天我很高兴！\n",
      "Papago Transalte:  我今天很幸福！\n"
     ]
    }
   ],
   "source": [
    "# translate one query into Chinese \n",
    "print('Baidu Transalte: ', BBT.translate(queries[0], 'en', 'zh')) # you can try to given \"Chinese\" here \n",
    "print('Google Transalte: ', GBT.translate(queries[0], 'en', 'zh-cn'))\n",
    "print('Papago Transalte: ', PBT.translate(queries[0], 'en', 'zh-CN'))"
   ]
  },
  {
   "cell_type": "code",
   "execution_count": 4,
   "id": "b55f6e3a",
   "metadata": {},
   "outputs": [
    {
     "name": "stdout",
     "output_type": "stream",
     "text": [
      "Baidu Transalte: \n",
      "\n",
      "This is translated example 1:  我今天很开心！\n",
      "This is translated example 2:  回译可以很好地作为文本扩充的一种手段\n",
      "This is translated example 3:  这是第三个例子,，\n",
      "它有两条线\n",
      "\n",
      "Google Transalte: \n",
      "\n",
      "This is translated example 1:  今天我很高兴！\n",
      "This is translated example 2:  后退转换可以用作文本增强的手段\n",
      "This is translated example 3:  这是第三个例子，\n",
      " 它有两条线\n",
      "\n",
      "Papago Transalte: \n",
      "\n",
      "This is translated example 1:  我今天很幸福！\n",
      "This is translated example 2:  作为文本增强手段，可以很好地进行后翻译。\n",
      "This is translated example 3:  这是第三个例子。 \n",
      " 有两条线。\n"
     ]
    }
   ],
   "source": [
    "# translate a list of queries into Chinese. Use 'bulk_transalte'!\n",
    "print('Baidu Transalte: \\n')\n",
    "results = BBT.bulk_transalte(queries, 'en', 'zh')\n",
    "for i, res in enumerate(results):\n",
    "    print(f'This is translated example {i+1}: ', res)\n",
    "\n",
    "\n",
    "print('\\nGoogle Transalte: \\n')\n",
    "results = GBT.bulk_transalte(queries, 'en', 'zh-cn')\n",
    "for i, res in enumerate(results):\n",
    "    print(f'This is translated example {i+1}: ', res)\n",
    "    \n",
    "\n",
    "print('\\nPapago Transalte: \\n')\n",
    "results = PBT.bulk_transalte(queries, 'en', 'zh-CN')\n",
    "for i, res in enumerate(results):\n",
    "    print(f'This is translated example {i+1}: ', res)"
   ]
  },
  {
   "cell_type": "markdown",
   "id": "3fe8a762",
   "metadata": {},
   "source": [
    "## Back Translatation\n",
    "\n",
    "### A simple example"
   ]
  },
  {
   "cell_type": "code",
   "execution_count": 5,
   "id": "15411fbc",
   "metadata": {},
   "outputs": [
    {
     "name": "stdout",
     "output_type": "stream",
     "text": [
      "Baidu:  Translation can be used as a means to expand the text\n",
      "\u001b[32mReturning lang code [ar] for \"arabic\" (arabic) \u001b[0m\n",
      "Google:  The background translation can work well as a text zoom method\n",
      "Papago:  Reverse translation is an effective way to enlarge text.\n"
     ]
    }
   ],
   "source": [
    "# src_lang and dst_lang are not neccessary if they are same with the dst_lang as in initialization \n",
    "# mid_lang can be one lang, or a list of langs. If not given, it will be totally random. \n",
    "\n",
    "print('Baidu: ', BBT.back_translate(queries[1], src_lang='en', mid_lang='kor', dst_lang='en'))\n",
    "print('Google: ', GBT.back_translate(queries[1], mid_lang='arabic'))\n",
    "print('Papago: ', PBT.back_translate(queries[1]))"
   ]
  },
  {
   "cell_type": "markdown",
   "id": "c9da5ad9",
   "metadata": {},
   "source": [
    "### To track the back translation process"
   ]
  },
  {
   "cell_type": "code",
   "execution_count": 6,
   "id": "4dea6bbb",
   "metadata": {},
   "outputs": [
    {
     "name": "stdout",
     "output_type": "stream",
     "text": [
      "Baidu:\n",
      "{'srcLang': 'english',\n",
      " 'originText': 'I am very happy today!',\n",
      " 'transLang1': 'danish',\n",
      " 'transText1': 'Jeg er meget glad i dag!',\n",
      " 'dstLang': 'english',\n",
      " 'finalText': \"I'm very happy today!\"}\n",
      "\n",
      "Google:\n",
      "\u001b[32mReturning lang code [fr] for \"french\" (french) \u001b[0m\n",
      "\u001b[32mReturning lang code [ja] for \"japanese\" (japanese) \u001b[0m\n",
      "\u001b[32mReturning lang code [es] for \"Spanish\" (spanish) \u001b[0m\n",
      "\u001b[32mReturning lang code [vi] for \"Vietnamese\" (vietnamese) \u001b[0m\n",
      "\u001b[32mReturning lang code [ug] for \"uyghur\" (uyghur) \u001b[0m\n",
      "\u001b[32mReturning lang code [tr] for \"turkish\" (turkish) \u001b[0m\n",
      "\u001b[32mReturning lang code [zh-tw] for \"chinese (traditional)\" (chinese (traditional)) \u001b[0m\n",
      "{'srcLang': 'english',\n",
      " 'originText': 'I am very happy today!',\n",
      " 'transLang1': 'french',\n",
      " 'transText1': \"Je suis très content aujourd'hui!\",\n",
      " 'transLang2': 'japanese',\n",
      " 'transText2': '私は今日とても幸せです！',\n",
      " 'transLang3': 'spanish',\n",
      " 'transText3': '¡Estoy muy feliz hoy!',\n",
      " 'transLang4': 'vietnamese',\n",
      " 'transText4': 'Hôm nay tôi rất vui!',\n",
      " 'transLang5': 'uyghur',\n",
      " 'transText5': 'مەن بۈگۈن خۇشالمەن!',\n",
      " 'transLang6': 'turkish',\n",
      " 'transText6': 'Bugün sevindim!',\n",
      " 'transLang7': 'chinese (traditional)',\n",
      " 'transText7': '我今天很高興！',\n",
      " 'dstLang': 'english',\n",
      " 'finalText': 'I am very happy today!'}\n",
      "\n",
      "Papago:\n",
      "\u001b[32mReturning lang code [th] for \"thai\" (Thai) \u001b[0m\n",
      "\u001b[32mReturning lang code [id] for \"Indonesia\" (Indonesia) \u001b[0m\n",
      "Back translation 0: \n",
      "{'srcLang': 'English',\n",
      " 'originText': 'I am very happy today!',\n",
      " 'transLang1': 'Thai',\n",
      " 'transText1': 'ฉันมีความสุขมากวันนี้!',\n",
      " 'dstLang': 'English',\n",
      " 'finalText': 'I had a great time today!'}\n",
      "Back translation 1: \n",
      "{'srcLang': 'English',\n",
      " 'originText': 'I am very happy today!',\n",
      " 'transLang1': 'Indonesia',\n",
      " 'transText1': 'Aku sangat bahagia hari ini!',\n",
      " 'dstLang': 'English',\n",
      " 'finalText': \"I'm so happy today!\"}\n"
     ]
    }
   ],
   "source": [
    "import pprint\n",
    "pp = pprint.PrettyPrinter(sort_dicts=False)\n",
    "\n",
    "\n",
    "# let's set mid_lang random and a list this time\n",
    "# if all_mid_lang is true, then back translation will go through all the mid_lang \n",
    "print('Baidu:')\n",
    "pp.pprint(BBT.back_translate(queries[0], out_dict=True))\n",
    "\n",
    "print('\\nGoogle:')\n",
    "pp.pprint(GBT.back_translate(queries[0], mid_lang=['french', 'japanese', 'Spanish', 'Vietnamese', \n",
    "                                                'uyghur', 'turkish', 'chinese (traditional)'], \n",
    "                                     all_mid_lang=True, out_dict=True))\n",
    "\n",
    "print('\\nPapago:')\n",
    "results = PBT.back_translate(queries[0], mid_lang=['thai', 'Indonesia'], out_dict=True)\n",
    "for idx, res in enumerate(results):\n",
    "    print(f'Back translation {idx}: ')\n",
    "    pp.pprint(res)"
   ]
  },
  {
   "cell_type": "markdown",
   "id": "4ea46c08",
   "metadata": {},
   "source": [
    "## Back translate a list of queiry "
   ]
  },
  {
   "cell_type": "code",
   "execution_count": 7,
   "id": "34ff0b9e",
   "metadata": {},
   "outputs": [
    {
     "name": "stdout",
     "output_type": "stream",
     "text": [
      "Baidu:\n",
      "\u001b[32mReturning lang code [yue] for \"cantonese\" (cantonese) \u001b[0m\n",
      "\u001b[32mReturning lang code [yue] for \"cantonese\" (cantonese) \u001b[0m\n",
      "\u001b[32mReturning lang code [yue] for \"cantonese\" (cantonese) \u001b[0m\n",
      "Back transalted text 1:  I'm very happy today!\n",
      "Back transalted text 2:  He used a method that can be well used as a means of text expansion\n",
      "Back transalted text 3:  This is the third example,,\n",
      "He has two lines\n",
      "\n",
      "Google:\n",
      "\u001b[32mReturning lang code [bg] for \"bulgarian\" (bulgarian) \u001b[0m\n",
      "\u001b[32mReturning lang code [hy] for \"armenian\" (armenian) \u001b[0m\n",
      "\u001b[32mReturning lang code [bg] for \"bulgarian\" (bulgarian) \u001b[0m\n",
      "\u001b[32mReturning lang code [hy] for \"armenian\" (armenian) \u001b[0m\n",
      "\u001b[32mReturning lang code [bg] for \"bulgarian\" (bulgarian) \u001b[0m\n",
      "\u001b[32mReturning lang code [hy] for \"armenian\" (armenian) \u001b[0m\n",
      "Google transalted text 1:  ['I am very happy today!', 'I am very happy today.']\n",
      "Google transalted text 2:  ['Reverse translation can work well as a means of increasing the text', 'Returning translation can work well as a means of strengthening text']\n",
      "Google transalted text 3:  ['This is the third example,\\n and there are two lines', 'This is the third example,\\n and it has two lines']\n",
      "\n",
      "Papago:\n",
      "Papago transalted text 1:  I'm so happy today!\n",
      "Papago transalted text 2:  As a means of text enhancement, it can be turned over well.\n",
      "Papago transalted text 3:  This is the third example, \n",
      " and it has two lines\n"
     ]
    }
   ],
   "source": [
    "# The usage is same above, but here is just a simple example\n",
    "print('Baidu:')\n",
    "results = BBT.bulk_back_translate(queries, mid_lang='cantonese')\n",
    "for idx, res in enumerate(results):\n",
    "    print(f'Back transalted text {idx+1}: ', res)\n",
    "\n",
    "print('\\nGoogle:')\n",
    "results = GBT.bulk_back_translate(queries, mid_lang=['bulgarian', 'armenian'])\n",
    "for idx, res in enumerate(results):\n",
    "    print(f'Google transalted text {idx+1}: ', res)\n",
    "\n",
    "    \n",
    "print('\\nPapago:')\n",
    "results = PBT.bulk_back_translate(queries)\n",
    "for idx, res in enumerate(results):\n",
    "    print(f'Papago transalted text {idx+1}: ', res)"
   ]
  },
  {
   "cell_type": "markdown",
   "id": "4dc4a206",
   "metadata": {},
   "source": [
    "## Back translation as text augmentation"
   ]
  },
  {
   "cell_type": "code",
   "execution_count": 8,
   "id": "c89572c9",
   "metadata": {},
   "outputs": [
    {
     "name": "stdout",
     "output_type": "stream",
     "text": [
      "Baidu:\n",
      "\n",
      "Baidu augmented text 1:  ['I am very happy today.']\n",
      "Baidu augmented text 2:  ['Translation is a good way to expand text']\n",
      "Baidu augmented text 3:  ['This is the third example\\nThere are two lines']\n",
      "\n",
      "Google:\n",
      "\n",
      "Google augmented text 1:  [\"I'm so happy today.\"]\n",
      "Google augmented text 2:  ['DOS conversion can be used as a means of improving the text', 'The new translator can make the same as an increase in the increase in the fact that']\n",
      "Google augmented text 3:  ['This is a second example,\\n and have two lines', 'This is the third example.\\n He has two lines']\n",
      "\n",
      "Papago:\n",
      "\n",
      "Papago augmented text 1:  ['I had a great time today!', \"I'm very happy today!\"]\n",
      "Papago augmented text 2:  ['As a means of text enhancement, post-translation is possible.', 'Reverse translation can work well as a means of strengthening text.', 'White translation can work well as a means of expanding text.']\n",
      "Papago augmented text 3:  [\"Here's the third example. \\n And there are two lines.\", 'This is the third example, \\n and have two lines', 'This is the third example. \\n And it has two lines.']\n"
     ]
    }
   ],
   "source": [
    "# you can set mid_lang as a str or a list of str, or do nothing \n",
    "# set `out_per_text` (int,defalut=1) to define the max number of augmented texts \n",
    "# if out_per_text>1, from the second iteration, the mid_lang will be randomly reset.\n",
    "# if the mid_lang is a list, then a list of same size will be randomly chosen. \n",
    "\n",
    "# you can also input a str as query, there is no separate bulk_augment\n",
    "\n",
    "print('Baidu:\\n')\n",
    "results = BBT.augment(queries,  out_per_text=1)\n",
    "for idx, res in enumerate(results):\n",
    "    print(f'Baidu augmented text {idx+1}: ', res)\n",
    "\n",
    "\n",
    "print('\\nGoogle:\\n')\n",
    "results = GBT.augment(queries, mid_lang=['zh-cn', 'fr'], out_per_text=2)\n",
    "for idx, res in enumerate(results):\n",
    "    print(f'Google augmented text {idx+1}: ', res)\n",
    "    \n",
    "    \n",
    "print('\\nPapago:\\n')\n",
    "results = PBT.augment(queries, mid_lang='ko', out_per_text=3)\n",
    "for idx, res in enumerate(results):\n",
    "    print(f'Papago augmented text {idx+1}: ', res)"
   ]
  },
  {
   "cell_type": "markdown",
   "id": "45efd760",
   "metadata": {},
   "source": [
    "## Problem\n",
    "\n",
    "Not all languages in the lang_dict provided for a translator are mutally translatable using API. So please make sure that you only include mutally translatable languages in the lang_dic or only set mutally translatable as mid_lang when you want to use back transaltion to augment texts"
   ]
  },
  {
   "cell_type": "code",
   "execution_count": 9,
   "id": "098e1d74",
   "metadata": {},
   "outputs": [
    {
     "name": "stdout",
     "output_type": "stream",
     "text": [
      "\u001b[32mCannot translate \"私は今日とても幸せです！\" from ja to es\u001b[0m\n",
      "Reason being:  'message'\n"
     ]
    }
   ],
   "source": [
    "PBT.translate('私は今日とても幸せです！', 'ja', 'es')"
   ]
  },
  {
   "cell_type": "markdown",
   "id": "d9ae4757",
   "metadata": {},
   "source": [
    "## Notes\n",
    "\n",
    "- Google Translate appears to be the most stable one in terms of the mutual translatablity among supported languages. \n",
    "- Baidu Translate is much more afforable, but you need to have a Chinese domestic phone number in oder to apply for access to its translation API. \n",
    "\n",
    "\n",
    "### Disclaimer \n",
    "\n",
    "- The methods provided here for accessing Google Translate without applying for access to its API are for illustration purposes. If you are to use Google Transalate to do massive back transaltions, please apply for its API as that is the most reliable and ethical use of its could translation service. \n",
    "    - You can apply for Google Translate API at: https://cloud.google.com/translate/. \n",
    "    - Quickstarts: https://cloud.google.com/translate/docs/quickstarts. \n",
    "    - Tutorial: https://codelabs.developers.google.com/codelabs/cloud-translation-python3#0. "
   ]
  }
 ],
 "metadata": {
  "kernelspec": {
   "display_name": "Python 3 (ipykernel)",
   "language": "python",
   "name": "python3"
  },
  "language_info": {
   "codemirror_mode": {
    "name": "ipython",
    "version": 3
   },
   "file_extension": ".py",
   "mimetype": "text/x-python",
   "name": "python",
   "nbconvert_exporter": "python",
   "pygments_lexer": "ipython3",
   "version": "3.9.6"
  }
 },
 "nbformat": 4,
 "nbformat_minor": 5
}
