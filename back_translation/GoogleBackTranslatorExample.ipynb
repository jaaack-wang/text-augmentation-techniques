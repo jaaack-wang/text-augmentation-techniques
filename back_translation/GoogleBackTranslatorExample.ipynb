{
 "cells": [
  {
   "cell_type": "markdown",
   "id": "b9ad1d38",
   "metadata": {},
   "source": [
    "## Initialization\n",
    "\n",
    "The back translator model stores lang code finder that will a right lang code if you give a right lang name. Otherwise, it may pop up several suggestions for possible lang codes you want to use. \n",
    "\n",
    "If you use the code for production, it is better to use the correct lang codes or just let the program select the mid_lang for you."
   ]
  },
  {
   "cell_type": "code",
   "execution_count": 1,
   "id": "b1863a6b",
   "metadata": {},
   "outputs": [
    {
     "name": "stdout",
     "output_type": "stream",
     "text": [
      "\u001b[32mReturning lang code [en] for \"English\" (english) \u001b[0m\n"
     ]
    }
   ],
   "source": [
    "from back_translators import GoogleBackTranslator\n",
    "# assume you do not have googletrans installed\n",
    "GBT = GoogleBackTranslator('English', use_googletrans=False)\n",
    "query = 'Today, I am very happy!'"
   ]
  },
  {
   "cell_type": "markdown",
   "id": "09e612cc",
   "metadata": {},
   "source": [
    "## Back Translation\n",
    "\n",
    "#### - Through one language (e.g., english --> french --> english)"
   ]
  },
  {
   "cell_type": "code",
   "execution_count": 2,
   "id": "671096f5",
   "metadata": {},
   "outputs": [
    {
     "name": "stdout",
     "output_type": "stream",
     "text": [
      "\u001b[32mReturning lang code [vi] for \"Vietnamese\" (vietnamese) \u001b[0m\n"
     ]
    },
    {
     "data": {
      "text/plain": [
       "\"I'm very happy today!\""
      ]
     },
     "execution_count": 2,
     "metadata": {},
     "output_type": "execute_result"
    }
   ],
   "source": [
    "GBT.back_translate(query, mid_lang='Vietnamese')"
   ]
  },
  {
   "cell_type": "markdown",
   "id": "575980fb",
   "metadata": {},
   "source": [
    "#### - Through multiple languages one at a time  (e.g., en -> L1 -> en; en -> L2 -> en ...)"
   ]
  },
  {
   "cell_type": "code",
   "execution_count": 3,
   "id": "8556633f",
   "metadata": {},
   "outputs": [
    {
     "name": "stdout",
     "output_type": "stream",
     "text": [
      "\u001b[32mReturning lang code [fr] for \"french\" (french) \u001b[0m\n"
     ]
    },
    {
     "data": {
      "text/plain": [
       "['Today I am very happy!', 'I am really happy today!']"
      ]
     },
     "execution_count": 3,
     "metadata": {},
     "output_type": "execute_result"
    }
   ],
   "source": [
    "GBT.back_translate(query, mid_lang=['french', 'zh-cn'])"
   ]
  },
  {
   "cell_type": "markdown",
   "id": "800d158c",
   "metadata": {},
   "source": [
    "#### - Through multiple languages at one time (e.g., en -> L1, L2, ... Ln -> english)"
   ]
  },
  {
   "cell_type": "code",
   "execution_count": 4,
   "id": "acd49843",
   "metadata": {},
   "outputs": [
    {
     "name": "stdout",
     "output_type": "stream",
     "text": [
      "\u001b[32mReturning lang code [fr] for \"french\" (french) \u001b[0m\n"
     ]
    },
    {
     "data": {
      "text/plain": [
       "'I am really happy today!'"
      ]
     },
     "execution_count": 4,
     "metadata": {},
     "output_type": "execute_result"
    }
   ],
   "source": [
    "GBT.back_translate(query, mid_lang=['french', 'zh-cn'], all_mid_lang=True)"
   ]
  },
  {
   "cell_type": "markdown",
   "id": "c6c25842",
   "metadata": {},
   "source": [
    "#### - To track the entire translation process"
   ]
  },
  {
   "cell_type": "code",
   "execution_count": 5,
   "id": "8b104062",
   "metadata": {},
   "outputs": [
    {
     "name": "stdout",
     "output_type": "stream",
     "text": [
      "\u001b[32mReturning lang code [fr] for \"french\" (french) \u001b[0m\n",
      "\u001b[32mReturning lang code [ja] for \"japanese\" (japanese) \u001b[0m\n"
     ]
    },
    {
     "data": {
      "text/plain": [
       "{'srcLang': 'english',\n",
       " 'originText': 'Today, I am very happy!',\n",
       " 'transLang1': 'french',\n",
       " 'transText1': \"Aujourd'hui, je suis très heureux!\",\n",
       " 'transLang2': 'chinese (simplified)',\n",
       " 'transText2': '今天我很开心！',\n",
       " 'transLang3': 'japanese',\n",
       " 'transText3': '今日は本当に嬉しいです！',\n",
       " 'dstLang': 'english',\n",
       " 'finalText': \"I'm really happy today!\"}"
      ]
     },
     "execution_count": 5,
     "metadata": {},
     "output_type": "execute_result"
    }
   ],
   "source": [
    "GBT.back_translate(query, mid_lang=['french', 'zh-cn', 'japanese'], all_mid_lang=True, out_dict=True)"
   ]
  },
  {
   "cell_type": "markdown",
   "id": "e133e4f4",
   "metadata": {},
   "source": [
    "#### - Use `bulk_back_translate` for back translating a list of queries"
   ]
  },
  {
   "cell_type": "code",
   "execution_count": 6,
   "id": "7f0c309b",
   "metadata": {},
   "outputs": [
    {
     "data": {
      "text/plain": [
       "[\"I'm very happy today!\", 'Reverse translation is a lot of fun']"
      ]
     },
     "execution_count": 6,
     "metadata": {},
     "output_type": "execute_result"
    }
   ],
   "source": [
    "GBT.bulk_back_translate([query, 'back translation is super fun'], mid_lang='ja')"
   ]
  },
  {
   "cell_type": "code",
   "execution_count": null,
   "id": "1145a671",
   "metadata": {},
   "outputs": [],
   "source": []
  },
  {
   "cell_type": "markdown",
   "id": "59da8c78",
   "metadata": {},
   "source": [
    "## Used for augmentation"
   ]
  },
  {
   "cell_type": "code",
   "execution_count": 7,
   "id": "fcd063b0",
   "metadata": {},
   "outputs": [
    {
     "name": "stdout",
     "output_type": "stream",
     "text": [
      "\u001b[32mReturning lang code [ko] for \"korean\" (korean) \u001b[0m\n"
     ]
    },
    {
     "data": {
      "text/plain": [
       "['Today, I am so happy!']"
      ]
     },
     "execution_count": 7,
     "metadata": {},
     "output_type": "execute_result"
    }
   ],
   "source": [
    "GBT.augment(query, mid_lang='korean', out_per_text=3)"
   ]
  },
  {
   "cell_type": "code",
   "execution_count": null,
   "id": "b452d214",
   "metadata": {},
   "outputs": [],
   "source": []
  },
  {
   "cell_type": "markdown",
   "id": "778df065",
   "metadata": {},
   "source": [
    "## Used for translation"
   ]
  },
  {
   "cell_type": "code",
   "execution_count": 8,
   "id": "2eb707d2",
   "metadata": {},
   "outputs": [
    {
     "data": {
      "text/plain": [
       "'今天，我很开心！'"
      ]
     },
     "execution_count": 8,
     "metadata": {},
     "output_type": "execute_result"
    }
   ],
   "source": [
    "GBT.translate(query, src_lang='en', dst_lang='zh-cn')"
   ]
  },
  {
   "cell_type": "code",
   "execution_count": 9,
   "id": "606b4071",
   "metadata": {},
   "outputs": [
    {
     "data": {
      "text/plain": [
       "['今天，我很开心！', '回译超级有趣']"
      ]
     },
     "execution_count": 9,
     "metadata": {},
     "output_type": "execute_result"
    }
   ],
   "source": [
    "GBT.bulk_transalte([query, 'back translation is super fun'], src_lang='en', dst_lang='zh-cn')"
   ]
  },
  {
   "cell_type": "code",
   "execution_count": null,
   "id": "62f1fd97",
   "metadata": {},
   "outputs": [],
   "source": []
  },
  {
   "cell_type": "markdown",
   "id": "e0296fb9",
   "metadata": {},
   "source": [
    "## Used for fun\n",
    "\n",
    "- Machine translation has improved a lot!"
   ]
  },
  {
   "cell_type": "code",
   "execution_count": 10,
   "id": "077bb62c",
   "metadata": {},
   "outputs": [
    {
     "name": "stdout",
     "output_type": "stream",
     "text": [
      "\u001b[32mReturning lang code [ru] for \"russian\" (russian) \u001b[0m\n"
     ]
    },
    {
     "data": {
      "text/plain": [
       "'The spirit is willing, but the flesh is weak'"
      ]
     },
     "execution_count": 10,
     "metadata": {},
     "output_type": "execute_result"
    }
   ],
   "source": [
    "query = 'The spirit is willing but the flesh is weak'\n",
    "GBT.back_translate(query, mid_lang='russian')"
   ]
  },
  {
   "cell_type": "code",
   "execution_count": 11,
   "id": "7bc9ffcb",
   "metadata": {},
   "outputs": [
    {
     "name": "stdout",
     "output_type": "stream",
     "text": [
      "\u001b[32mReturning lang code [ru] for \"russian\" (russian) \u001b[0m\n",
      "\u001b[32mReturning lang code [fr] for \"french\" (french) \u001b[0m\n",
      "\u001b[32mReturning lang code [ug] for \"uyghur\" (uyghur) \u001b[0m\n",
      "\u001b[32mReturning lang code [ja] for \"japanese\" (japanese) \u001b[0m\n",
      "\u001b[32mReturning lang code [es] for \"Spanish\" (spanish) \u001b[0m\n",
      "\u001b[32mReturning lang code [tr] for \"turkish\" (turkish) \u001b[0m\n",
      "\u001b[32mReturning lang code [zh-cn] for \"chinese (simplified)\" (chinese (simplified)) \u001b[0m\n",
      "\u001b[32mReturning lang code [ko] for \"korean\" (korean) \u001b[0m\n",
      "\u001b[32mReturning lang code [bg] for \"bulgarian\" (bulgarian) \u001b[0m\n",
      "\u001b[32mReturning lang code [hy] for \"armenian\" (armenian) \u001b[0m\n"
     ]
    },
    {
     "data": {
      "text/plain": [
       "['The spirit is willing, but the flesh is weak',\n",
       " 'The spirit is ready, but the flesh is weak',\n",
       " 'The spirit is willing, but the flesh is weak',\n",
       " 'The spirit is advanced, but the flesh is weak',\n",
       " 'The spirit is willing, but the flesh is weak',\n",
       " 'The soul is willing but the flesh is weak',\n",
       " 'The spirit is willing to be weak in the flesh',\n",
       " 'The heart is willing, but the flesh is weak.',\n",
       " 'The spirit is ready, but the flesh is weak',\n",
       " 'The soul is willing, but the body is weak']"
      ]
     },
     "execution_count": 11,
     "metadata": {},
     "output_type": "execute_result"
    }
   ],
   "source": [
    "GBT.back_translate(query, mid_lang=['russian', 'french', 'uyghur', 'japanese', 'Spanish', \n",
    "                               'turkish', 'chinese (simplified)', 'korean', 'bulgarian', \n",
    "                                'armenian'], all_mid_lang=False)"
   ]
  },
  {
   "cell_type": "code",
   "execution_count": 12,
   "id": "88bb3119",
   "metadata": {},
   "outputs": [
    {
     "name": "stdout",
     "output_type": "stream",
     "text": [
      "\u001b[32mReturning lang code [ru] for \"russian\" (russian) \u001b[0m\n",
      "\u001b[32mReturning lang code [fr] for \"french\" (french) \u001b[0m\n",
      "\u001b[32mReturning lang code [ug] for \"uyghur\" (uyghur) \u001b[0m\n",
      "\u001b[32mReturning lang code [ja] for \"japanese\" (japanese) \u001b[0m\n",
      "\u001b[32mReturning lang code [es] for \"Spanish\" (spanish) \u001b[0m\n",
      "\u001b[32mReturning lang code [tr] for \"turkish\" (turkish) \u001b[0m\n",
      "\u001b[32mReturning lang code [zh-cn] for \"chinese (simplified)\" (chinese (simplified)) \u001b[0m\n",
      "\u001b[32mReturning lang code [ko] for \"korean\" (korean) \u001b[0m\n",
      "\u001b[32mReturning lang code [bg] for \"bulgarian\" (bulgarian) \u001b[0m\n",
      "\u001b[32mReturning lang code [hy] for \"armenian\" (armenian) \u001b[0m\n"
     ]
    },
    {
     "data": {
      "text/plain": [
       "'The soul is ready, but the body is weak'"
      ]
     },
     "execution_count": 12,
     "metadata": {},
     "output_type": "execute_result"
    }
   ],
   "source": [
    "GBT.back_translate(query, mid_lang=['russian', 'french', 'uyghur', 'japanese', 'Spanish', \n",
    "                               'turkish', 'chinese (simplified)', 'korean', 'bulgarian', \n",
    "                                'armenian'], all_mid_lang=True)"
   ]
  },
  {
   "cell_type": "code",
   "execution_count": null,
   "id": "9f8999bb",
   "metadata": {},
   "outputs": [],
   "source": []
  },
  {
   "cell_type": "code",
   "execution_count": 13,
   "id": "2a63d738",
   "metadata": {},
   "outputs": [
    {
     "name": "stdout",
     "output_type": "stream",
     "text": [
      "\u001b[32mReturning lang code [ru] for \"russian\" (russian) \u001b[0m\n",
      "\u001b[32mReturning lang code [fr] for \"french\" (french) \u001b[0m\n",
      "\u001b[32mReturning lang code [ug] for \"uyghur\" (uyghur) \u001b[0m\n",
      "\u001b[32mReturning lang code [ja] for \"japanese\" (japanese) \u001b[0m\n",
      "\u001b[32mReturning lang code [es] for \"Spanish\" (spanish) \u001b[0m\n",
      "\u001b[32mReturning lang code [tr] for \"turkish\" (turkish) \u001b[0m\n",
      "\u001b[32mReturning lang code [zh-cn] for \"chinese (simplified)\" (chinese (simplified)) \u001b[0m\n",
      "\u001b[32mReturning lang code [ko] for \"korean\" (korean) \u001b[0m\n",
      "\u001b[32mReturning lang code [bg] for \"bulgarian\" (bulgarian) \u001b[0m\n",
      "\u001b[32mReturning lang code [hy] for \"armenian\" (armenian) \u001b[0m\n"
     ]
    },
    {
     "data": {
      "text/plain": [
       "['Out of sight, out of mind',\n",
       " 'out of sight, out of mind',\n",
       " 'From the eyes, from the mind',\n",
       " 'Invisible, out of my heart',\n",
       " 'Out of sight, out of mind',\n",
       " 'out of sight out of mind',\n",
       " 'Out of sight out of mind',\n",
       " 'Out of sight, out of mind',\n",
       " 'away from the eyes, away from the mind',\n",
       " 'out of sight, out of mind']"
      ]
     },
     "execution_count": 13,
     "metadata": {},
     "output_type": "execute_result"
    }
   ],
   "source": [
    "query = 'out of sight, out of mind'\n",
    "GBT.back_translate(query, mid_lang=['russian', 'french', 'uyghur', 'japanese', 'Spanish', \n",
    "                               'turkish', 'chinese (simplified)', 'korean', 'bulgarian', \n",
    "                                'armenian'], all_mid_lang=False)"
   ]
  },
  {
   "cell_type": "code",
   "execution_count": 14,
   "id": "1e12f13d",
   "metadata": {},
   "outputs": [
    {
     "name": "stdout",
     "output_type": "stream",
     "text": [
      "\u001b[32mReturning lang code [ru] for \"russian\" (russian) \u001b[0m\n",
      "\u001b[32mReturning lang code [fr] for \"french\" (french) \u001b[0m\n",
      "\u001b[32mReturning lang code [ug] for \"uyghur\" (uyghur) \u001b[0m\n",
      "\u001b[32mReturning lang code [ja] for \"japanese\" (japanese) \u001b[0m\n",
      "\u001b[32mReturning lang code [es] for \"Spanish\" (spanish) \u001b[0m\n",
      "\u001b[32mReturning lang code [tr] for \"turkish\" (turkish) \u001b[0m\n",
      "\u001b[32mReturning lang code [zh-cn] for \"chinese (simplified)\" (chinese (simplified)) \u001b[0m\n",
      "\u001b[32mReturning lang code [ko] for \"korean\" (korean) \u001b[0m\n",
      "\u001b[32mReturning lang code [bg] for \"bulgarian\" (bulgarian) \u001b[0m\n",
      "\u001b[32mReturning lang code [hy] for \"armenian\" (armenian) \u001b[0m\n"
     ]
    },
    {
     "data": {
      "text/plain": [
       "['Out of sight, out of mind',\n",
       " 'out of sight, out of mind',\n",
       " 'From the eyes, from the mind',\n",
       " 'Invisible, out of my heart',\n",
       " 'Out of sight, out of mind',\n",
       " 'out of sight out of mind',\n",
       " 'Out of sight out of mind',\n",
       " 'Out of sight, out of mind',\n",
       " 'away from the eyes, away from the mind',\n",
       " 'out of sight, out of mind']"
      ]
     },
     "execution_count": 14,
     "metadata": {},
     "output_type": "execute_result"
    }
   ],
   "source": [
    "GBT.back_translate(query, mid_lang=['russian', 'french', 'uyghur', 'japanese', 'Spanish', \n",
    "                               'turkish', 'chinese (simplified)', 'korean', 'bulgarian', \n",
    "                                'armenian'], all_mid_lang=False)"
   ]
  }
 ],
 "metadata": {
  "kernelspec": {
   "display_name": "Python 3 (ipykernel)",
   "language": "python",
   "name": "python3"
  },
  "language_info": {
   "codemirror_mode": {
    "name": "ipython",
    "version": 3
   },
   "file_extension": ".py",
   "mimetype": "text/x-python",
   "name": "python",
   "nbconvert_exporter": "python",
   "pygments_lexer": "ipython3",
   "version": "3.9.6"
  }
 },
 "nbformat": 4,
 "nbformat_minor": 5
}
